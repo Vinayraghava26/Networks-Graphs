{
  "nbformat": 4,
  "nbformat_minor": 0,
  "metadata": {
    "colab": {
      "provenance": []
    },
    "kernelspec": {
      "name": "python3",
      "display_name": "Python 3"
    },
    "language_info": {
      "name": "python"
    },
    "widgets": {
      "application/vnd.jupyter.widget-state+json": {
        "27d1cc5de6c14120b6ed574eaf11b5b3": {
          "model_module": "yfiles-jupyter-graphs",
          "model_name": "GraphModel",
          "model_module_version": "^1.7.3",
          "state": {
            "_context_pane_mapping": [
              {
                "id": "Neighborhood",
                "title": "Neighborhood"
              },
              {
                "id": "Data",
                "title": "Data"
              },
              {
                "id": "Search",
                "title": "Search"
              },
              {
                "id": "About",
                "title": "About"
              }
            ],
            "_data_importer": "neo4j",
            "_directed": true,
            "_dom_classes": [],
            "_edges": [
              {
                "id": 1152921504606847000,
                "start": 0,
                "end": 20,
                "properties": {
                  "label": "Has_disease"
                },
                "label": "Has_disease",
                "color": "#9C27B0",
                "thickness_factor": 1,
                "directed": true
              },
              {
                "id": 1155173304420532200,
                "start": 0,
                "end": 21,
                "properties": {
                  "label": "Has_disease"
                },
                "label": "Has_disease",
                "color": "#9C27B0",
                "thickness_factor": 1,
                "directed": true
              },
              {
                "id": 1157425104234217500,
                "start": 0,
                "end": 22,
                "properties": {
                  "label": "Has_disease"
                },
                "label": "Has_disease",
                "color": "#9C27B0",
                "thickness_factor": 1,
                "directed": true
              },
              {
                "id": 1152923703630102500,
                "start": 0,
                "end": 40,
                "properties": {
                  "label": "Has_Records"
                },
                "label": "Has_Records",
                "color": "#2196F3",
                "thickness_factor": 1,
                "directed": true
              },
              {
                "id": 1155175503443787800,
                "start": 0,
                "end": 41,
                "properties": {
                  "label": "Has_Records"
                },
                "label": "Has_Records",
                "color": "#2196F3",
                "thickness_factor": 1,
                "directed": true
              },
              {
                "id": 1157427303257473000,
                "start": 0,
                "end": 60,
                "properties": {
                  "label": "Has_Records"
                },
                "label": "Has_Records",
                "color": "#2196F3",
                "thickness_factor": 1,
                "directed": true
              },
              {
                "id": 1159679103071158300,
                "start": 0,
                "end": 61,
                "properties": {
                  "label": "Has_Records"
                },
                "label": "Has_Records",
                "color": "#2196F3",
                "thickness_factor": 1,
                "directed": true
              },
              {
                "id": 1152924803141730300,
                "start": 0,
                "end": 70,
                "properties": {
                  "label": "Has_Symptoms"
                },
                "label": "Has_Symptoms",
                "color": "#4CAF50",
                "thickness_factor": 1,
                "directed": true
              },
              {
                "id": 1152932499723124700,
                "start": 0,
                "end": 38,
                "properties": {
                  "label": "Visits"
                },
                "label": "Visits",
                "color": "#F44336",
                "thickness_factor": 1,
                "directed": true
              },
              {
                "id": 1152933599234752500,
                "start": 0,
                "end": 110,
                "properties": {
                  "label": "Follows"
                },
                "label": "Follows",
                "color": "#607D8B",
                "thickness_factor": 1,
                "directed": true
              },
              {
                "id": 1152935798258008000,
                "start": 0,
                "end": 120,
                "properties": {
                  "label": "Needs"
                },
                "label": "Needs",
                "color": "#673AB7",
                "thickness_factor": 1,
                "directed": true
              },
              {
                "id": 1155187598071693300,
                "start": 0,
                "end": 121,
                "properties": {
                  "label": "Needs"
                },
                "label": "Needs",
                "color": "#673AB7",
                "thickness_factor": 1,
                "directed": true
              },
              {
                "id": 1157439397885378600,
                "start": 0,
                "end": 122,
                "properties": {
                  "label": "Needs"
                },
                "label": "Needs",
                "color": "#673AB7",
                "thickness_factor": 1,
                "directed": true
              },
              {
                "id": 1159691197699063800,
                "start": 0,
                "end": 123,
                "properties": {
                  "label": "Needs"
                },
                "label": "Needs",
                "color": "#673AB7",
                "thickness_factor": 1,
                "directed": true
              },
              {
                "id": 1152921504606847000,
                "start": 1,
                "end": 21,
                "properties": {
                  "label": "Has_disease"
                },
                "label": "Has_disease",
                "color": "#9C27B0",
                "thickness_factor": 1,
                "directed": true
              },
              {
                "id": 1155173304420532200,
                "start": 1,
                "end": 23,
                "properties": {
                  "label": "Has_disease"
                },
                "label": "Has_disease",
                "color": "#9C27B0",
                "thickness_factor": 1,
                "directed": true
              },
              {
                "id": 1157425104234217500,
                "start": 1,
                "end": 24,
                "properties": {
                  "label": "Has_disease"
                },
                "label": "Has_disease",
                "color": "#9C27B0",
                "thickness_factor": 1,
                "directed": true
              },
              {
                "id": 1152923703630102500,
                "start": 1,
                "end": 42,
                "properties": {
                  "label": "Has_Records"
                },
                "label": "Has_Records",
                "color": "#2196F3",
                "thickness_factor": 1,
                "directed": true
              },
              {
                "id": 1155175503443787800,
                "start": 1,
                "end": 43,
                "properties": {
                  "label": "Has_Records"
                },
                "label": "Has_Records",
                "color": "#2196F3",
                "thickness_factor": 1,
                "directed": true
              },
              {
                "id": 1157427303257473000,
                "start": 1,
                "end": 62,
                "properties": {
                  "label": "Has_Records"
                },
                "label": "Has_Records",
                "color": "#2196F3",
                "thickness_factor": 1,
                "directed": true
              },
              {
                "id": 1159679103071158300,
                "start": 1,
                "end": 63,
                "properties": {
                  "label": "Has_Records"
                },
                "label": "Has_Records",
                "color": "#2196F3",
                "thickness_factor": 1,
                "directed": true
              },
              {
                "id": 1152924803141730300,
                "start": 1,
                "end": 71,
                "properties": {
                  "label": "Has_Symptoms"
                },
                "label": "Has_Symptoms",
                "color": "#4CAF50",
                "thickness_factor": 1,
                "directed": true
              },
              {
                "id": 1152933599234752500,
                "start": 1,
                "end": 111,
                "properties": {
                  "label": "Follows"
                },
                "label": "Follows",
                "color": "#607D8B",
                "thickness_factor": 1,
                "directed": true
              },
              {
                "id": 1152935798258008000,
                "start": 1,
                "end": 124,
                "properties": {
                  "label": "Needs"
                },
                "label": "Needs",
                "color": "#673AB7",
                "thickness_factor": 1,
                "directed": true
              },
              {
                "id": 1155187598071693300,
                "start": 1,
                "end": 125,
                "properties": {
                  "label": "Needs"
                },
                "label": "Needs",
                "color": "#673AB7",
                "thickness_factor": 1,
                "directed": true
              },
              {
                "id": 1157439397885378600,
                "start": 1,
                "end": 126,
                "properties": {
                  "label": "Needs"
                },
                "label": "Needs",
                "color": "#673AB7",
                "thickness_factor": 1,
                "directed": true
              },
              {
                "id": 1159691197699063800,
                "start": 1,
                "end": 127,
                "properties": {
                  "label": "Needs"
                },
                "label": "Needs",
                "color": "#673AB7",
                "thickness_factor": 1,
                "directed": true
              },
              {
                "id": 1152921504606847000,
                "start": 2,
                "end": 20,
                "properties": {
                  "label": "Has_disease"
                },
                "label": "Has_disease",
                "color": "#9C27B0",
                "thickness_factor": 1,
                "directed": true
              },
              {
                "id": 1155173304420532200,
                "start": 2,
                "end": 22,
                "properties": {
                  "label": "Has_disease"
                },
                "label": "Has_disease",
                "color": "#9C27B0",
                "thickness_factor": 1,
                "directed": true
              },
              {
                "id": 1157425104234217500,
                "start": 2,
                "end": 25,
                "properties": {
                  "label": "Has_disease"
                },
                "label": "Has_disease",
                "color": "#9C27B0",
                "thickness_factor": 1,
                "directed": true
              },
              {
                "id": 1152923703630102500,
                "start": 2,
                "end": 44,
                "properties": {
                  "label": "Has_Records"
                },
                "label": "Has_Records",
                "color": "#2196F3",
                "thickness_factor": 1,
                "directed": true
              },
              {
                "id": 1155175503443787800,
                "start": 2,
                "end": 45,
                "properties": {
                  "label": "Has_Records"
                },
                "label": "Has_Records",
                "color": "#2196F3",
                "thickness_factor": 1,
                "directed": true
              },
              {
                "id": 1157427303257473000,
                "start": 2,
                "end": 64,
                "properties": {
                  "label": "Has_Records"
                },
                "label": "Has_Records",
                "color": "#2196F3",
                "thickness_factor": 1,
                "directed": true
              },
              {
                "id": 1159679103071158300,
                "start": 2,
                "end": 65,
                "properties": {
                  "label": "Has_Records"
                },
                "label": "Has_Records",
                "color": "#2196F3",
                "thickness_factor": 1,
                "directed": true
              },
              {
                "id": 1152924803141730300,
                "start": 2,
                "end": 72,
                "properties": {
                  "label": "Has_Symptoms"
                },
                "label": "Has_Symptoms",
                "color": "#4CAF50",
                "thickness_factor": 1,
                "directed": true
              },
              {
                "id": 1152933599234752500,
                "start": 2,
                "end": 112,
                "properties": {
                  "label": "Follows"
                },
                "label": "Follows",
                "color": "#607D8B",
                "thickness_factor": 1,
                "directed": true
              },
              {
                "id": 1157439397885378600,
                "start": 2,
                "end": 120,
                "properties": {
                  "label": "Needs"
                },
                "label": "Needs",
                "color": "#673AB7",
                "thickness_factor": 1,
                "directed": true
              },
              {
                "id": 1159691197699063800,
                "start": 2,
                "end": 121,
                "properties": {
                  "label": "Needs"
                },
                "label": "Needs",
                "color": "#673AB7",
                "thickness_factor": 1,
                "directed": true
              },
              {
                "id": 1152935798258008000,
                "start": 2,
                "end": 128,
                "properties": {
                  "label": "Needs"
                },
                "label": "Needs",
                "color": "#673AB7",
                "thickness_factor": 1,
                "directed": true
              },
              {
                "id": 1155187598071693300,
                "start": 2,
                "end": 129,
                "properties": {
                  "label": "Needs"
                },
                "label": "Needs",
                "color": "#673AB7",
                "thickness_factor": 1,
                "directed": true
              },
              {
                "id": 1152921504606847000,
                "start": 3,
                "end": 23,
                "properties": {
                  "label": "Has_disease"
                },
                "label": "Has_disease",
                "color": "#9C27B0",
                "thickness_factor": 1,
                "directed": true
              },
              {
                "id": 1155173304420532200,
                "start": 3,
                "end": 24,
                "properties": {
                  "label": "Has_disease"
                },
                "label": "Has_disease",
                "color": "#9C27B0",
                "thickness_factor": 1,
                "directed": true
              },
              {
                "id": 1157425104234217500,
                "start": 3,
                "end": 26,
                "properties": {
                  "label": "Has_disease"
                },
                "label": "Has_disease",
                "color": "#9C27B0",
                "thickness_factor": 1,
                "directed": true
              },
              {
                "id": 1152923703630102500,
                "start": 3,
                "end": 46,
                "properties": {
                  "label": "Has_Records"
                },
                "label": "Has_Records",
                "color": "#2196F3",
                "thickness_factor": 1,
                "directed": true
              },
              {
                "id": 1155175503443787800,
                "start": 3,
                "end": 47,
                "properties": {
                  "label": "Has_Records"
                },
                "label": "Has_Records",
                "color": "#2196F3",
                "thickness_factor": 1,
                "directed": true
              },
              {
                "id": 1157427303257473000,
                "start": 3,
                "end": 66,
                "properties": {
                  "label": "Has_Records"
                },
                "label": "Has_Records",
                "color": "#2196F3",
                "thickness_factor": 1,
                "directed": true
              },
              {
                "id": 1159679103071158300,
                "start": 3,
                "end": 67,
                "properties": {
                  "label": "Has_Records"
                },
                "label": "Has_Records",
                "color": "#2196F3",
                "thickness_factor": 1,
                "directed": true
              },
              {
                "id": 1152924803141730300,
                "start": 3,
                "end": 73,
                "properties": {
                  "label": "Has_Symptoms"
                },
                "label": "Has_Symptoms",
                "color": "#4CAF50",
                "thickness_factor": 1,
                "directed": true
              },
              {
                "id": 1152932499723124700,
                "start": 3,
                "end": 35,
                "properties": {
                  "label": "Visits"
                },
                "label": "Visits",
                "color": "#F44336",
                "thickness_factor": 1,
                "directed": true
              },
              {
                "id": 1152933599234752500,
                "start": 3,
                "end": 113,
                "properties": {
                  "label": "Follows"
                },
                "label": "Follows",
                "color": "#607D8B",
                "thickness_factor": 1,
                "directed": true
              }
            ],
            "_graph_layout": {},
            "_highlight": [],
            "_license": {},
            "_model_module": "yfiles-jupyter-graphs",
            "_model_module_version": "^1.7.3",
            "_model_name": "GraphModel",
            "_neighborhood": {},
            "_nodes": [
              {
                "id": 0,
                "properties": {
                  "ContactInfo": 8001234567,
                  "ID": 1,
                  "Gender": "Male",
                  "Age": 45,
                  "Name": "Ravi Kumar",
                  "Location": "Hyderabad",
                  "label": "Patients"
                },
                "color": "#2196F3",
                "styles": {},
                "label": "0",
                "scale_factor": 1,
                "type": "#2196F3",
                "size": [
                  55,
                  55
                ],
                "position": [
                  0,
                  0
                ]
              },
              {
                "id": 20,
                "properties": {
                  "Description": "A condition characterized by narrowing of the coronary arteries.",
                  "ID": 1,
                  "Name": "Coronary Artery Disease",
                  "label": "Diseases"
                },
                "color": "#4CAF50",
                "styles": {},
                "label": "20",
                "scale_factor": 1,
                "type": "#4CAF50",
                "size": [
                  55,
                  55
                ],
                "position": [
                  0,
                  0
                ]
              },
              {
                "id": 21,
                "properties": {
                  "Description": "A long-term condition where the kidneys don't work as well as they should.",
                  "ID": 2,
                  "Name": "Chronic Kidney Disease",
                  "label": "Diseases"
                },
                "color": "#4CAF50",
                "styles": {},
                "label": "21",
                "scale_factor": 1,
                "type": "#4CAF50",
                "size": [
                  55,
                  55
                ],
                "position": [
                  0,
                  0
                ]
              },
              {
                "id": 22,
                "properties": {
                  "Description": "A digestive disorder that affects the lower esophageal sphincter.",
                  "ID": 3,
                  "Name": "Gastroesophageal Reflux Disease (GERD)",
                  "label": "Diseases"
                },
                "color": "#4CAF50",
                "styles": {},
                "label": "22",
                "scale_factor": 1,
                "type": "#4CAF50",
                "size": [
                  55,
                  55
                ],
                "position": [
                  0,
                  0
                ]
              },
              {
                "id": 40,
                "properties": {
                  "Frequency": "Twice a day",
                  "ID": 1,
                  "Dosage": "500mg",
                  "Notes": "Diagnosed with Coronary Artery Disease",
                  "Name": "Metformin",
                  "label": "Records"
                },
                "color": "#F44336",
                "styles": {},
                "label": "40",
                "scale_factor": 1,
                "type": "#F44336",
                "size": [
                  55,
                  55
                ],
                "position": [
                  0,
                  0
                ]
              },
              {
                "id": 41,
                "properties": {
                  "Frequency": "Once a day",
                  "ID": 2,
                  "Dosage": "10mg",
                  "Notes": "Diagnosed with Chronic Kidney Disease",
                  "Name": "Lisinopril",
                  "label": "Records"
                },
                "color": "#F44336",
                "styles": {},
                "label": "41",
                "scale_factor": 1,
                "type": "#F44336",
                "size": [
                  55,
                  55
                ],
                "position": [
                  0,
                  0
                ]
              },
              {
                "id": 60,
                "properties": {
                  "Frequency": "Once a day",
                  "ID": 21,
                  "Dosage": "20mg",
                  "Notes": "Diagnosed with Hypertension",
                  "Name": "Rosuvastatin",
                  "label": "Records"
                },
                "color": "#F44336",
                "styles": {},
                "label": "60",
                "scale_factor": 1,
                "type": "#F44336",
                "size": [
                  55,
                  55
                ],
                "position": [
                  0,
                  0
                ]
              },
              {
                "id": 61,
                "properties": {
                  "Frequency": "Once a day",
                  "ID": 22,
                  "Dosage": "20mg",
                  "Notes": "Diagnosed with IBS",
                  "Name": "Simvastatin",
                  "label": "Records"
                },
                "color": "#F44336",
                "styles": {},
                "label": "61",
                "scale_factor": 1,
                "type": "#F44336",
                "size": [
                  55,
                  55
                ],
                "position": [
                  0,
                  0
                ]
              },
              {
                "id": 70,
                "properties": {
                  "Description": "Discomfort or pain that you feel anywhere along the front of your body between your neck and upper abdomen.",
                  "ID": 1,
                  "Name": "Chest Pain",
                  "label": "Symptoms"
                },
                "color": "#607D8B",
                "styles": {},
                "label": "70",
                "scale_factor": 1,
                "type": "#607D8B",
                "size": [
                  55,
                  55
                ],
                "position": [
                  0,
                  0
                ]
              },
              {
                "id": 38,
                "properties": {
                  "Specialty": "Psychiatrist",
                  "ContactInfo": 9009012345,
                  "ID": 9,
                  "Hospital": "Medicover Hospitals",
                  "Name": "Dr. Sneha Reddy",
                  "Location": "Rangareddy",
                  "label": "Doctors"
                },
                "color": "#673AB7",
                "styles": {},
                "label": "38",
                "scale_factor": 1,
                "type": "#673AB7",
                "size": [
                  55,
                  55
                ],
                "position": [
                  0,
                  0
                ]
              },
              {
                "id": 110,
                "properties": {
                  "Description": "Reduced carbohydrate intake.",
                  "ID": 1,
                  "Name": "Low-Carb Diet",
                  "label": "Diet"
                },
                "color": "#CDDC39",
                "styles": {},
                "label": "110",
                "scale_factor": 1,
                "type": "#CDDC39",
                "size": [
                  55,
                  55
                ],
                "position": [
                  0,
                  0
                ]
              },
              {
                "id": 120,
                "properties": {
                  "ReportName": "Blood Test",
                  "Description": "Complete blood count (CBC)",
                  "ReportID": 1,
                  "label": "Reports"
                },
                "color": "#9E9E9E",
                "styles": {},
                "label": "120",
                "scale_factor": 1,
                "type": "#9E9E9E",
                "size": [
                  55,
                  55
                ],
                "position": [
                  0,
                  0
                ]
              },
              {
                "id": 121,
                "properties": {
                  "ReportName": "X-Ray",
                  "Description": "Chest X-Ray",
                  "ReportID": 2,
                  "label": "Reports"
                },
                "color": "#9E9E9E",
                "styles": {},
                "label": "121",
                "scale_factor": 1,
                "type": "#9E9E9E",
                "size": [
                  55,
                  55
                ],
                "position": [
                  0,
                  0
                ]
              },
              {
                "id": 122,
                "properties": {
                  "ReportName": "MRI Scan",
                  "Description": "MRI of the brain",
                  "ReportID": 3,
                  "label": "Reports"
                },
                "color": "#9E9E9E",
                "styles": {},
                "label": "122",
                "scale_factor": 1,
                "type": "#9E9E9E",
                "size": [
                  55,
                  55
                ],
                "position": [
                  0,
                  0
                ]
              },
              {
                "id": 123,
                "properties": {
                  "ReportName": "ECG",
                  "Description": "Electrocardiogram",
                  "ReportID": 4,
                  "label": "Reports"
                },
                "color": "#9E9E9E",
                "styles": {},
                "label": "123",
                "scale_factor": 1,
                "type": "#9E9E9E",
                "size": [
                  55,
                  55
                ],
                "position": [
                  0,
                  0
                ]
              },
              {
                "id": 1,
                "properties": {
                  "ContactInfo": 8002345678,
                  "ID": 2,
                  "Gender": "Female",
                  "Age": 37,
                  "Name": "Sunita Reddy",
                  "Location": "Secunderabad",
                  "label": "Patients"
                },
                "color": "#2196F3",
                "styles": {},
                "label": "1",
                "scale_factor": 1,
                "type": "#2196F3",
                "size": [
                  55,
                  55
                ],
                "position": [
                  0,
                  0
                ]
              },
              {
                "id": 23,
                "properties": {
                  "Description": "A neurodegenerative disorder that affects movement.",
                  "ID": 4,
                  "Name": "Parkinson's Disease",
                  "label": "Diseases"
                },
                "color": "#4CAF50",
                "styles": {},
                "label": "23",
                "scale_factor": 1,
                "type": "#4CAF50",
                "size": [
                  55,
                  55
                ],
                "position": [
                  0,
                  0
                ]
              },
              {
                "id": 24,
                "properties": {
                  "Description": "A condition in which the force of the blood against the artery walls is too high.",
                  "ID": 5,
                  "Name": "Hypertension",
                  "label": "Diseases"
                },
                "color": "#4CAF50",
                "styles": {},
                "label": "24",
                "scale_factor": 1,
                "type": "#4CAF50",
                "size": [
                  55,
                  55
                ],
                "position": [
                  0,
                  0
                ]
              },
              {
                "id": 42,
                "properties": {
                  "Frequency": "As needed",
                  "ID": 3,
                  "Dosage": "2.5mg",
                  "Notes": "Diagnosed with GERD",
                  "Name": "Albuterol",
                  "label": "Records"
                },
                "color": "#F44336",
                "styles": {},
                "label": "42",
                "scale_factor": 1,
                "type": "#F44336",
                "size": [
                  55,
                  55
                ],
                "position": [
                  0,
                  0
                ]
              },
              {
                "id": 43,
                "properties": {
                  "Frequency": "Every 6 hours",
                  "ID": 4,
                  "Dosage": "500mg",
                  "Notes": "Diagnosed with Parkinson's Disease",
                  "Name": "Paracetamol",
                  "label": "Records"
                },
                "color": "#F44336",
                "styles": {},
                "label": "43",
                "scale_factor": 1,
                "type": "#F44336",
                "size": [
                  55,
                  55
                ],
                "position": [
                  0,
                  0
                ]
              },
              {
                "id": 62,
                "properties": {
                  "Frequency": "Every 4-6 hours",
                  "ID": 23,
                  "Dosage": "50mg",
                  "Notes": "Diagnosed with Diabetes",
                  "Name": "Tramadol",
                  "label": "Records"
                },
                "color": "#F44336",
                "styles": {},
                "label": "62",
                "scale_factor": 1,
                "type": "#F44336",
                "size": [
                  55,
                  55
                ],
                "position": [
                  0,
                  0
                ]
              },
              {
                "id": 63,
                "properties": {
                  "Frequency": "Once a day",
                  "ID": 24,
                  "Dosage": "5mg",
                  "Notes": "Diagnosed with Alzheimer's Disease",
                  "Name": "Warfarin",
                  "label": "Records"
                },
                "color": "#F44336",
                "styles": {},
                "label": "63",
                "scale_factor": 1,
                "type": "#F44336",
                "size": [
                  55,
                  55
                ],
                "position": [
                  0,
                  0
                ]
              },
              {
                "id": 71,
                "properties": {
                  "Description": "A feeling of not being able to breathe well enough.",
                  "ID": 2,
                  "Name": "Shortness of Breath",
                  "label": "Symptoms"
                },
                "color": "#607D8B",
                "styles": {},
                "label": "71",
                "scale_factor": 1,
                "type": "#607D8B",
                "size": [
                  55,
                  55
                ],
                "position": [
                  0,
                  0
                ]
              },
              {
                "id": 111,
                "properties": {
                  "Description": "Reduced sodium intake.",
                  "ID": 2,
                  "Name": "Low-Sodium Diet",
                  "label": "Diet"
                },
                "color": "#CDDC39",
                "styles": {},
                "label": "111",
                "scale_factor": 1,
                "type": "#CDDC39",
                "size": [
                  55,
                  55
                ],
                "position": [
                  0,
                  0
                ]
              },
              {
                "id": 124,
                "properties": {
                  "ReportName": "CT Scan",
                  "Description": "CT Scan of the abdomen",
                  "ReportID": 5,
                  "label": "Reports"
                },
                "color": "#9E9E9E",
                "styles": {},
                "label": "124",
                "scale_factor": 1,
                "type": "#9E9E9E",
                "size": [
                  55,
                  55
                ],
                "position": [
                  0,
                  0
                ]
              },
              {
                "id": 125,
                "properties": {
                  "ReportName": "Ultrasound",
                  "Description": "Ultrasound of the abdomen",
                  "ReportID": 6,
                  "label": "Reports"
                },
                "color": "#9E9E9E",
                "styles": {},
                "label": "125",
                "scale_factor": 1,
                "type": "#9E9E9E",
                "size": [
                  55,
                  55
                ],
                "position": [
                  0,
                  0
                ]
              },
              {
                "id": 126,
                "properties": {
                  "ReportName": "Liver Function Test",
                  "Description": "Test for liver function",
                  "ReportID": 7,
                  "label": "Reports"
                },
                "color": "#9E9E9E",
                "styles": {},
                "label": "126",
                "scale_factor": 1,
                "type": "#9E9E9E",
                "size": [
                  55,
                  55
                ],
                "position": [
                  0,
                  0
                ]
              },
              {
                "id": 127,
                "properties": {
                  "ReportName": "Kidney Function Test",
                  "Description": "Test for kidney function",
                  "ReportID": 8,
                  "label": "Reports"
                },
                "color": "#9E9E9E",
                "styles": {},
                "label": "127",
                "scale_factor": 1,
                "type": "#9E9E9E",
                "size": [
                  55,
                  55
                ],
                "position": [
                  0,
                  0
                ]
              },
              {
                "id": 2,
                "properties": {
                  "ContactInfo": 8003456789,
                  "ID": 3,
                  "Gender": "Male",
                  "Age": 50,
                  "Name": "Rajesh Sharma",
                  "Location": "Nizamabad",
                  "label": "Patients"
                },
                "color": "#2196F3",
                "styles": {},
                "label": "2",
                "scale_factor": 1,
                "type": "#2196F3",
                "size": [
                  55,
                  55
                ],
                "position": [
                  0,
                  0
                ]
              },
              {
                "id": 25,
                "properties": {
                  "Description": "A metabolic disorder characterized by high blood sugar levels.",
                  "ID": 6,
                  "Name": "Diabetes",
                  "label": "Diseases"
                },
                "color": "#4CAF50",
                "styles": {},
                "label": "25",
                "scale_factor": 1,
                "type": "#4CAF50",
                "size": [
                  55,
                  55
                ],
                "position": [
                  0,
                  0
                ]
              },
              {
                "id": 44,
                "properties": {
                  "Frequency": "Once a day",
                  "ID": 5,
                  "Dosage": "81mg",
                  "Notes": "Diagnosed with Hypertension",
                  "Name": "Aspirin",
                  "label": "Records"
                },
                "color": "#F44336",
                "styles": {},
                "label": "44",
                "scale_factor": 1,
                "type": "#F44336",
                "size": [
                  55,
                  55
                ],
                "position": [
                  0,
                  0
                ]
              },
              {
                "id": 45,
                "properties": {
                  "Frequency": "Once a day",
                  "ID": 6,
                  "Dosage": "20mg",
                  "Notes": "Diagnosed with Diabetes",
                  "Name": "Omeprazole",
                  "label": "Records"
                },
                "color": "#F44336",
                "styles": {},
                "label": "45",
                "scale_factor": 1,
                "type": "#F44336",
                "size": [
                  55,
                  55
                ],
                "position": [
                  0,
                  0
                ]
              },
              {
                "id": 64,
                "properties": {
                  "Frequency": "Once a day",
                  "ID": 25,
                  "Dosage": "10mg",
                  "Notes": "Diagnosed with Heart Failure",
                  "Name": "Zolpidem",
                  "label": "Records"
                },
                "color": "#F44336",
                "styles": {},
                "label": "64",
                "scale_factor": 1,
                "type": "#F44336",
                "size": [
                  55,
                  55
                ],
                "position": [
                  0,
                  0
                ]
              },
              {
                "id": 65,
                "properties": {
                  "Frequency": "Once a day",
                  "ID": 26,
                  "Dosage": "10mg",
                  "Notes": "Diagnosed with Stroke",
                  "Name": "Cetirizine",
                  "label": "Records"
                },
                "color": "#F44336",
                "styles": {},
                "label": "65",
                "scale_factor": 1,
                "type": "#F44336",
                "size": [
                  55,
                  55
                ],
                "position": [
                  0,
                  0
                ]
              },
              {
                "id": 72,
                "properties": {
                  "Description": "Feeling overtired, with low energy and a strong desire to sleep that interferes with normal daily activities.",
                  "ID": 3,
                  "Name": "Fatigue",
                  "label": "Symptoms"
                },
                "color": "#607D8B",
                "styles": {},
                "label": "72",
                "scale_factor": 1,
                "type": "#607D8B",
                "size": [
                  55,
                  55
                ],
                "position": [
                  0,
                  0
                ]
              },
              {
                "id": 112,
                "properties": {
                  "Description": "Increased protein intake.",
                  "ID": 3,
                  "Name": "High-Protein Diet",
                  "label": "Diet"
                },
                "color": "#CDDC39",
                "styles": {},
                "label": "112",
                "scale_factor": 1,
                "type": "#CDDC39",
                "size": [
                  55,
                  55
                ],
                "position": [
                  0,
                  0
                ]
              },
              {
                "id": 128,
                "properties": {
                  "ReportName": "Thyroid Test",
                  "Description": "Test for thyroid function",
                  "ReportID": 9,
                  "label": "Reports"
                },
                "color": "#9E9E9E",
                "styles": {},
                "label": "128",
                "scale_factor": 1,
                "type": "#9E9E9E",
                "size": [
                  55,
                  55
                ],
                "position": [
                  0,
                  0
                ]
              },
              {
                "id": 129,
                "properties": {
                  "ReportName": "Lipid Profile",
                  "Description": "Test for cholesterol levels",
                  "ReportID": 10,
                  "label": "Reports"
                },
                "color": "#9E9E9E",
                "styles": {},
                "label": "129",
                "scale_factor": 1,
                "type": "#9E9E9E",
                "size": [
                  55,
                  55
                ],
                "position": [
                  0,
                  0
                ]
              },
              {
                "id": 3,
                "properties": {
                  "ContactInfo": 8004567890,
                  "ID": 4,
                  "Gender": "Female",
                  "Age": 29,
                  "Name": "Meena Gupta",
                  "Location": "Karimnagar",
                  "label": "Patients"
                },
                "color": "#2196F3",
                "styles": {},
                "label": "3",
                "scale_factor": 1,
                "type": "#2196F3",
                "size": [
                  55,
                  55
                ],
                "position": [
                  0,
                  0
                ]
              },
              {
                "id": 26,
                "properties": {
                  "Description": "A gastrointestinal disorder causing pain, bloating, and altered bowel habits.",
                  "ID": 7,
                  "Name": "Irritable Bowel Syndrome (IBS)",
                  "label": "Diseases"
                },
                "color": "#4CAF50",
                "styles": {},
                "label": "26",
                "scale_factor": 1,
                "type": "#4CAF50",
                "size": [
                  55,
                  55
                ],
                "position": [
                  0,
                  0
                ]
              },
              {
                "id": 46,
                "properties": {
                  "Frequency": "Once a day",
                  "ID": 7,
                  "Dosage": "50mcg",
                  "Notes": "Diagnosed with IBS",
                  "Name": "Levothyroxine",
                  "label": "Records"
                },
                "color": "#F44336",
                "styles": {},
                "label": "46",
                "scale_factor": 1,
                "type": "#F44336",
                "size": [
                  55,
                  55
                ],
                "position": [
                  0,
                  0
                ]
              },
              {
                "id": 47,
                "properties": {
                  "Frequency": "Once a day",
                  "ID": 8,
                  "Dosage": "40mg",
                  "Notes": "Diagnosed with Alzheimer's Disease",
                  "Name": "Atorvastatin",
                  "label": "Records"
                },
                "color": "#F44336",
                "styles": {},
                "label": "47",
                "scale_factor": 1,
                "type": "#F44336",
                "size": [
                  55,
                  55
                ],
                "position": [
                  0,
                  0
                ]
              },
              {
                "id": 66,
                "properties": {
                  "Frequency": "Twice a day",
                  "ID": 27,
                  "Dosage": "100mg",
                  "Notes": "Diagnosed with Coronary Artery Disease",
                  "Name": "Doxycycline",
                  "label": "Records"
                },
                "color": "#F44336",
                "styles": {},
                "label": "66",
                "scale_factor": 1,
                "type": "#F44336",
                "size": [
                  55,
                  55
                ],
                "position": [
                  0,
                  0
                ]
              },
              {
                "id": 67,
                "properties": {
                  "Frequency": "Twice a day",
                  "ID": 28,
                  "Dosage": "20mg",
                  "Notes": "Diagnosed with GERD",
                  "Name": "Famotidine",
                  "label": "Records"
                },
                "color": "#F44336",
                "styles": {},
                "label": "67",
                "scale_factor": 1,
                "type": "#F44336",
                "size": [
                  55,
                  55
                ],
                "position": [
                  0,
                  0
                ]
              },
              {
                "id": 73,
                "properties": {
                  "Description": "A feeling of sickness with an inclination to vomit.",
                  "ID": 4,
                  "Name": "Nausea",
                  "label": "Symptoms"
                },
                "color": "#607D8B",
                "styles": {},
                "label": "73",
                "scale_factor": 1,
                "type": "#607D8B",
                "size": [
                  55,
                  55
                ],
                "position": [
                  0,
                  0
                ]
              },
              {
                "id": 35,
                "properties": {
                  "Specialty": "Nephrologist",
                  "ContactInfo": 9006789012,
                  "ID": 6,
                  "Hospital": "CARE Hospitals",
                  "Name": "Dr. Rajesh Kumar",
                  "Location": "Khammam",
                  "label": "Doctors"
                },
                "color": "#673AB7",
                "styles": {},
                "label": "35",
                "scale_factor": 1,
                "type": "#673AB7",
                "size": [
                  55,
                  55
                ],
                "position": [
                  0,
                  0
                ]
              },
              {
                "id": 113,
                "properties": {
                  "Description": "Excludes meat and fish.",
                  "ID": 4,
                  "Name": "Vegetarian Diet",
                  "label": "Diet"
                },
                "color": "#CDDC39",
                "styles": {},
                "label": "113",
                "scale_factor": 1,
                "type": "#CDDC39",
                "size": [
                  55,
                  55
                ],
                "position": [
                  0,
                  0
                ]
              }
            ],
            "_overview": {
              "enabled": null,
              "overview_set": false
            },
            "_selected_graph": [
              [],
              []
            ],
            "_sidebar": {
              "enabled": true,
              "start_with": ""
            },
            "_view_count": null,
            "_view_module": "yfiles-jupyter-graphs",
            "_view_module_version": "^1.7.3",
            "_view_name": "GraphView",
            "layout": "IPY_MODEL_a094cbdeb6b84ef89f0336f1749c46a1",
            "tabbable": null,
            "tooltip": null
          }
        },
        "a094cbdeb6b84ef89f0336f1749c46a1": {
          "model_module": "@jupyter-widgets/base",
          "model_name": "LayoutModel",
          "model_module_version": "2.0.0",
          "state": {
            "_model_module": "@jupyter-widgets/base",
            "_model_module_version": "2.0.0",
            "_model_name": "LayoutModel",
            "_view_count": null,
            "_view_module": "@jupyter-widgets/base",
            "_view_module_version": "2.0.0",
            "_view_name": "LayoutView",
            "align_content": null,
            "align_items": null,
            "align_self": null,
            "border_bottom": null,
            "border_left": null,
            "border_right": null,
            "border_top": null,
            "bottom": null,
            "display": null,
            "flex": null,
            "flex_flow": null,
            "grid_area": null,
            "grid_auto_columns": null,
            "grid_auto_flow": null,
            "grid_auto_rows": null,
            "grid_column": null,
            "grid_gap": null,
            "grid_row": null,
            "grid_template_areas": null,
            "grid_template_columns": null,
            "grid_template_rows": null,
            "height": "800px",
            "justify_content": null,
            "justify_items": null,
            "left": null,
            "margin": null,
            "max_height": null,
            "max_width": null,
            "min_height": null,
            "min_width": null,
            "object_fit": null,
            "object_position": null,
            "order": null,
            "overflow": null,
            "padding": null,
            "right": null,
            "top": null,
            "visibility": null,
            "width": "100%"
          }
        }
      }
    }
  },
  "cells": [
    {
      "cell_type": "code",
      "execution_count": null,
      "metadata": {
        "colab": {
          "base_uri": "https://localhost:8080/"
        },
        "id": "D7caR33j9May",
        "outputId": "019d578a-cb25-4e2d-f292-80c17fe7a40e"
      },
      "outputs": [
        {
          "output_type": "stream",
          "name": "stdout",
          "text": [
            "Requirement already satisfied: neo4j in /usr/local/lib/python3.10/dist-packages (5.23.1)\n",
            "Requirement already satisfied: openai in /usr/local/lib/python3.10/dist-packages (1.40.6)\n",
            "Requirement already satisfied: langchain in /usr/local/lib/python3.10/dist-packages (0.2.13)\n",
            "Requirement already satisfied: pytz in /usr/local/lib/python3.10/dist-packages (from neo4j) (2024.1)\n",
            "Requirement already satisfied: anyio<5,>=3.5.0 in /usr/local/lib/python3.10/dist-packages (from openai) (3.7.1)\n",
            "Requirement already satisfied: distro<2,>=1.7.0 in /usr/lib/python3/dist-packages (from openai) (1.7.0)\n",
            "Requirement already satisfied: httpx<1,>=0.23.0 in /usr/local/lib/python3.10/dist-packages (from openai) (0.27.0)\n",
            "Requirement already satisfied: jiter<1,>=0.4.0 in /usr/local/lib/python3.10/dist-packages (from openai) (0.5.0)\n",
            "Requirement already satisfied: pydantic<3,>=1.9.0 in /usr/local/lib/python3.10/dist-packages (from openai) (2.8.2)\n",
            "Requirement already satisfied: sniffio in /usr/local/lib/python3.10/dist-packages (from openai) (1.3.1)\n",
            "Requirement already satisfied: tqdm>4 in /usr/local/lib/python3.10/dist-packages (from openai) (4.66.5)\n",
            "Requirement already satisfied: typing-extensions<5,>=4.11 in /usr/local/lib/python3.10/dist-packages (from openai) (4.12.2)\n",
            "Requirement already satisfied: PyYAML>=5.3 in /usr/local/lib/python3.10/dist-packages (from langchain) (6.0.2)\n",
            "Requirement already satisfied: SQLAlchemy<3,>=1.4 in /usr/local/lib/python3.10/dist-packages (from langchain) (2.0.32)\n",
            "Requirement already satisfied: aiohttp<4.0.0,>=3.8.3 in /usr/local/lib/python3.10/dist-packages (from langchain) (3.10.2)\n",
            "Requirement already satisfied: async-timeout<5.0.0,>=4.0.0 in /usr/local/lib/python3.10/dist-packages (from langchain) (4.0.3)\n",
            "Requirement already satisfied: langchain-core<0.3.0,>=0.2.30 in /usr/local/lib/python3.10/dist-packages (from langchain) (0.2.30)\n",
            "Requirement already satisfied: langchain-text-splitters<0.3.0,>=0.2.0 in /usr/local/lib/python3.10/dist-packages (from langchain) (0.2.2)\n",
            "Requirement already satisfied: langsmith<0.2.0,>=0.1.17 in /usr/local/lib/python3.10/dist-packages (from langchain) (0.1.99)\n",
            "Requirement already satisfied: numpy<2,>=1 in /usr/local/lib/python3.10/dist-packages (from langchain) (1.26.4)\n",
            "Requirement already satisfied: requests<3,>=2 in /usr/local/lib/python3.10/dist-packages (from langchain) (2.32.3)\n",
            "Requirement already satisfied: tenacity!=8.4.0,<9.0.0,>=8.1.0 in /usr/local/lib/python3.10/dist-packages (from langchain) (8.5.0)\n",
            "Requirement already satisfied: aiohappyeyeballs>=2.3.0 in /usr/local/lib/python3.10/dist-packages (from aiohttp<4.0.0,>=3.8.3->langchain) (2.3.5)\n",
            "Requirement already satisfied: aiosignal>=1.1.2 in /usr/local/lib/python3.10/dist-packages (from aiohttp<4.0.0,>=3.8.3->langchain) (1.3.1)\n",
            "Requirement already satisfied: attrs>=17.3.0 in /usr/local/lib/python3.10/dist-packages (from aiohttp<4.0.0,>=3.8.3->langchain) (24.2.0)\n",
            "Requirement already satisfied: frozenlist>=1.1.1 in /usr/local/lib/python3.10/dist-packages (from aiohttp<4.0.0,>=3.8.3->langchain) (1.4.1)\n",
            "Requirement already satisfied: multidict<7.0,>=4.5 in /usr/local/lib/python3.10/dist-packages (from aiohttp<4.0.0,>=3.8.3->langchain) (6.0.5)\n",
            "Requirement already satisfied: yarl<2.0,>=1.0 in /usr/local/lib/python3.10/dist-packages (from aiohttp<4.0.0,>=3.8.3->langchain) (1.9.4)\n",
            "Requirement already satisfied: idna>=2.8 in /usr/local/lib/python3.10/dist-packages (from anyio<5,>=3.5.0->openai) (3.7)\n",
            "Requirement already satisfied: exceptiongroup in /usr/local/lib/python3.10/dist-packages (from anyio<5,>=3.5.0->openai) (1.2.2)\n",
            "Requirement already satisfied: certifi in /usr/local/lib/python3.10/dist-packages (from httpx<1,>=0.23.0->openai) (2024.7.4)\n",
            "Requirement already satisfied: httpcore==1.* in /usr/local/lib/python3.10/dist-packages (from httpx<1,>=0.23.0->openai) (1.0.5)\n",
            "Requirement already satisfied: h11<0.15,>=0.13 in /usr/local/lib/python3.10/dist-packages (from httpcore==1.*->httpx<1,>=0.23.0->openai) (0.14.0)\n",
            "Requirement already satisfied: jsonpatch<2.0,>=1.33 in /usr/local/lib/python3.10/dist-packages (from langchain-core<0.3.0,>=0.2.30->langchain) (1.33)\n",
            "Requirement already satisfied: packaging<25,>=23.2 in /usr/local/lib/python3.10/dist-packages (from langchain-core<0.3.0,>=0.2.30->langchain) (24.1)\n",
            "Requirement already satisfied: orjson<4.0.0,>=3.9.14 in /usr/local/lib/python3.10/dist-packages (from langsmith<0.2.0,>=0.1.17->langchain) (3.10.7)\n",
            "Requirement already satisfied: annotated-types>=0.4.0 in /usr/local/lib/python3.10/dist-packages (from pydantic<3,>=1.9.0->openai) (0.7.0)\n",
            "Requirement already satisfied: pydantic-core==2.20.1 in /usr/local/lib/python3.10/dist-packages (from pydantic<3,>=1.9.0->openai) (2.20.1)\n",
            "Requirement already satisfied: charset-normalizer<4,>=2 in /usr/local/lib/python3.10/dist-packages (from requests<3,>=2->langchain) (3.3.2)\n",
            "Requirement already satisfied: urllib3<3,>=1.21.1 in /usr/local/lib/python3.10/dist-packages (from requests<3,>=2->langchain) (2.0.7)\n",
            "Requirement already satisfied: greenlet!=0.4.17 in /usr/local/lib/python3.10/dist-packages (from SQLAlchemy<3,>=1.4->langchain) (3.0.3)\n",
            "Requirement already satisfied: jsonpointer>=1.9 in /usr/local/lib/python3.10/dist-packages (from jsonpatch<2.0,>=1.33->langchain-core<0.3.0,>=0.2.30->langchain) (3.0.0)\n"
          ]
        }
      ],
      "source": [
        " # Install necessary libraries\n",
        "!pip install neo4j openai langchain"
      ]
    },
    {
      "cell_type": "code",
      "source": [
        "%pip install --upgrade --quiet  langchain langchain-community langchain-openai langchain-experimental neo4j wikipedia tiktoken yfiles_jupyter_graphs"
      ],
      "metadata": {
        "id": "BlAQtAUC_ZxL"
      },
      "execution_count": null,
      "outputs": []
    },
    {
      "cell_type": "code",
      "source": [
        "from langchain_core.runnables import (\n",
        "    RunnableBranch,\n",
        "    RunnableLambda,\n",
        "    RunnableParallel,\n",
        "    RunnablePassthrough,\n",
        ")\n",
        "from langchain_core.prompts import ChatPromptTemplate\n",
        "from langchain_core.prompts.prompt import PromptTemplate\n",
        "from langchain_core.pydantic_v1 import BaseModel, Field\n",
        "from typing import Tuple, List, Optional\n",
        "from langchain_core.messages import AIMessage, HumanMessage\n",
        "from langchain_core.output_parsers import StrOutputParser\n",
        "import os\n",
        "from langchain_community.graphs import Neo4jGraph\n",
        "from langchain.document_loaders import WikipediaLoader\n",
        "from langchain.text_splitter import TokenTextSplitter\n",
        "from langchain_openai import ChatOpenAI\n",
        "from langchain_experimental.graph_transformers import LLMGraphTransformer\n",
        "from neo4j import GraphDatabase\n",
        "from yfiles_jupyter_graphs import GraphWidget\n",
        "from langchain_community.vectorstores import Neo4jVector\n",
        "from langchain_openai import OpenAIEmbeddings\n",
        "from langchain_community.vectorstores.neo4j_vector import remove_lucene_chars\n",
        "from langchain_core.runnables import ConfigurableField, RunnableParallel, RunnablePassthrough\n",
        "\n",
        "try:\n",
        "  import google.colab\n",
        "  from google.colab import output\n",
        "  output.enable_custom_widget_manager()\n",
        "except:\n",
        "  pass"
      ],
      "metadata": {
        "id": "Di5MKgfW9NHV"
      },
      "execution_count": null,
      "outputs": []
    },
    {
      "cell_type": "code",
      "source": [
        "\n",
        "os.environ[\"OPENAI_API_KEY\"] = \"********\"\n",
        "os.environ[\"NEO4J_URI\"] = \"neo4j+s://ef5adff4.databases.neo4j.io\"\n",
        "os.environ[\"NEO4J_USERNAME\"] = \"neo4j\"\n",
        "os.environ[\"NEO4J_PASSWORD\"] = \"********\"\n",
        "\n",
        "graph = Neo4jGraph()"
      ],
      "metadata": {
        "id": "Vs7zen7X9QGF"
      },
      "execution_count": null,
      "outputs": []
    },
    {
      "cell_type": "code",
      "source": [
        "llm=ChatOpenAI(temperature=0, model_name=\"gpt-3.5-turbo-0125\") # gpt-4-0125-preview occasionally has issues\n",
        "llm_transformer = LLMGraphTransformer(llm=llm)\n",
        "driver = GraphDatabase.driver(uri, auth=(username, password))\n",
        "def run_query(query):\n",
        "    with driver.session() as session:\n",
        "        result = session.run(query)\n",
        "        return result.data()\n",
        "\n",
        "# Example query to retrieve all nodes and relationships\n",
        "query = \"\"\"\n",
        "MATCH (n)-[r]->(m)\n",
        "RETURN n, r, m\n",
        "\"\"\"\n",
        "data = run_query(query)\n",
        "\n",
        "# Convert data to JSON format\n",
        "data_json = json.dumps(data, indent=2)\n",
        "\n",
        "# Initialize LLM with API key\n",
        "llm = ChatOpenAI(temperature=0, model_name=\"gpt-3.5-turbo-0125\", openai_api_key=\"sk-svcacct-l53jq7nNGp5kEBA2JlKbU15M8IItd0BbPHsOJsn7F2uuW2dT3BlbkFJGOBUM2kazvV9XZ6-LrwKXmc-DMw42eYEWQ3JShpMyQk2W2wA\") # gpt-4-0125-preview occasionally has issues\n",
        "llm_transformer = LLMGraphTransformer(llm=llm)"
      ],
      "metadata": {
        "id": "06uusMk19izA"
      },
      "execution_count": null,
      "outputs": []
    },
    {
      "cell_type": "code",
      "source": [
        "\n",
        "\n",
        "default_cypher = \"MATCH (s)-[r:!MENTIONS]->(t) RETURN s,r,t LIMIT 50\"\n",
        "\n",
        "def showGraph(cypher: str = default_cypher):\n",
        "    # create a neo4j session to run queries\n",
        "    driver = GraphDatabase.driver(\n",
        "        uri=os.environ[\"NEO4J_URI\"],\n",
        "        auth=(os.environ[\"NEO4J_USERNAME\"], os.environ[\"NEO4J_PASSWORD\"]))\n",
        "    session = driver.session()\n",
        "    widget = GraphWidget(graph=session.run(cypher).graph())\n",
        "    widget.node_label_mapping = 'id'\n",
        "    return widget\n",
        "\n",
        "showGraph()"
      ],
      "metadata": {
        "colab": {
          "base_uri": "https://localhost:8080/",
          "height": 854,
          "referenced_widgets": [
            "27d1cc5de6c14120b6ed574eaf11b5b3",
            "a094cbdeb6b84ef89f0336f1749c46a1"
          ]
        },
        "id": "nx0SGh4a9nlE",
        "outputId": "b5968f25-5e4c-44be-9607-20a2c1bc8174"
      },
      "execution_count": null,
      "outputs": [
        {
          "output_type": "stream",
          "name": "stderr",
          "text": [
            "WARNING:neo4j.notifications:Received notification from DBMS server: {severity: WARNING} {code: Neo.ClientNotification.Statement.UnknownRelationshipTypeWarning} {category: UNRECOGNIZED} {title: The provided relationship type is not in the database.} {description: One of the relationship types in your query is not available in the database, make sure you didn't misspell it or that the label is available when you run this statement in your application (the missing relationship type is: MENTIONS)} {position: line: 1, column: 15, offset: 14} for query: 'MATCH (s)-[r:!MENTIONS]->(t) RETURN s,r,t LIMIT 50'\n"
          ]
        },
        {
          "output_type": "display_data",
          "data": {
            "text/plain": [
              "GraphWidget(layout=Layout(height='800px', width='100%'))"
            ],
            "application/vnd.jupyter.widget-view+json": {
              "version_major": 2,
              "version_minor": 0,
              "model_id": "27d1cc5de6c14120b6ed574eaf11b5b3"
            }
          },
          "metadata": {
            "application/vnd.jupyter.widget-view+json": {
              "colab": {
                "custom_widget_manager": {
                  "url": "https://ssl.gstatic.com/colaboratory-static/widgets/colab-cdn-widget-manager/2b70e893a8ba7c0f/manager.min.js"
                }
              }
            }
          }
        }
      ]
    },
    {
      "cell_type": "code",
      "source": [
        "vector_index = Neo4jVector.from_existing_graph(\n",
        "    OpenAIEmbeddings(),\n",
        "    search_type=\"hybrid\",\n",
        "    node_label=\"Document\",\n",
        "    text_node_properties=[\"text\"],\n",
        "    embedding_node_property=\"embedding\"\n",
        ")\n",
        "\n",
        "graph.query(\n",
        "    \"CREATE FULLTEXT INDEX entity IF NOT EXISTS FOR (e:__Entity__) ON EACH [e.id]\"\n",
        ")\n",
        "\n",
        "# Extract entities from text\n",
        "class Entities(BaseModel):\n",
        "    \"\"\"Identifying information about entities.\"\"\"\n",
        "\n",
        "    names: List[str] = Field(\n",
        "        ...,\n",
        "        description=\"All the person, organization, or business entities that \"\n",
        "                    \"appear in the text\",\n",
        "    )\n",
        "\n",
        "prompt = ChatPromptTemplate.from_messages(\n",
        "    [\n",
        "        (\"system\", \"You are extracting organization and person entities from the text.\"),\n",
        "        (\"human\", \"Use the given format to extract information from the following input: {question}\"),\n",
        "    ]\n",
        ")\n",
        "\n",
        "entity_chain = prompt | llm.with_structured_output(Entities)"
      ],
      "metadata": {
        "id": "pkBQKn8eBZ6r"
      },
      "execution_count": null,
      "outputs": []
    },
    {
      "cell_type": "code",
      "source": [
        "entity_chain"
      ],
      "metadata": {
        "colab": {
          "base_uri": "https://localhost:8080/"
        },
        "id": "J-5MVKWAD_H-",
        "outputId": "1ba4a904-9f55-4604-a742-6568cbdbc5bb"
      },
      "execution_count": null,
      "outputs": [
        {
          "output_type": "execute_result",
          "data": {
            "text/plain": [
              "ChatPromptTemplate(input_variables=['question'], messages=[SystemMessagePromptTemplate(prompt=PromptTemplate(input_variables=[], template='You are extracting organization and person entities from the text.')), HumanMessagePromptTemplate(prompt=PromptTemplate(input_variables=['question'], template='Use the given format to extract information from the following input: {question}'))])\n",
              "| RunnableBinding(bound=ChatOpenAI(client=<openai.resources.chat.completions.Completions object at 0x7f48e2564d90>, async_client=<openai.resources.chat.completions.AsyncCompletions object at 0x7f48e25666b0>, root_client=<openai.OpenAI object at 0x7f48e2517430>, root_async_client=<openai.AsyncOpenAI object at 0x7f48e2564dc0>, model_name='gpt-3.5-turbo-0125', temperature=0.0, openai_api_key=SecretStr('**********'), openai_proxy=''), kwargs={'tools': [{'type': 'function', 'function': {'name': 'Entities', 'description': 'Identifying information about entities.', 'parameters': {'type': 'object', 'properties': {'names': {'description': 'All the person, organization, or business entities that appear in the text', 'type': 'array', 'items': {'type': 'string'}}}, 'required': ['names']}}}], 'parallel_tool_calls': False, 'tool_choice': {'type': 'function', 'function': {'name': 'Entities'}}})\n",
              "| PydanticToolsParser(first_tool_only=True, tools=[<class '__main__.Entities'>])"
            ]
          },
          "metadata": {},
          "execution_count": 61
        }
      ]
    },
    {
      "cell_type": "code",
      "source": [
        "def generate_full_text_query(input: str) -> str:\n",
        "    full_text_query = \"\"\n",
        "    words = input.split()\n",
        "    for word in words[:-1]:\n",
        "        full_text_query += f\" {word}~2 AND\"\n",
        "    full_text_query += f\" {words[-1]}~2\"\n",
        "    return full_text_query.strip()\n",
        "\n",
        "# Fulltext index query\n",
        "def structured_retriever(question: str) -> str:\n",
        "    result = \"\"\n",
        "    entities = entity_chain.invoke({\"question\": question})\n",
        "    for entity in entities.names:\n",
        "        response = graph.query(\n",
        "            \"\"\"CALL db.index.fulltext.queryNodes('entity', $query, {limit:2})\n",
        "            YIELD node,score\n",
        "            CALL {\n",
        "              WITH node\n",
        "              MATCH (node)-[r:!MENTIONS]->(neighbor)\n",
        "              RETURN node.id + ' - ' + type(r) + ' -> ' + neighbor.id AS output\n",
        "              UNION ALL\n",
        "              WITH node\n",
        "              MATCH (node)<-[r:!MENTIONS]-(neighbor)\n",
        "              RETURN neighbor.id + ' - ' + type(r) + ' -> ' +  node.id AS output\n",
        "            }\n",
        "            RETURN output LIMIT 50\n",
        "            \"\"\",\n",
        "            {\"query\": generate_full_text_query(entity)},\n",
        "        )\n",
        "        result += \"\\n\".join([el['output'] for el in response])\n",
        "    return result\n",
        "\n",
        "def retriever(question: str):\n",
        "    print(f\"Search query: {question}\")\n",
        "    structured_data = structured_retriever(question)\n",
        "    unstructured_data = [el.page_content for el in vector_index.similarity_search(question)]\n",
        "    final_data = f\"\"\"Structured data:\n",
        "{structured_data}\n",
        "Unstructured data:\n",
        "{\"#Document \". join(unstructured_data)}\n",
        "    \"\"\"\n",
        "    return final_data\n",
        "\n",
        "# Condense a chat history and follow-up question into a standalone question\n",
        "_template = \"\"\"Given the following conversation and a follow up question, rephrase the follow up question to be a standalone question,\n",
        "in its original language.\n",
        "Chat History:\n",
        "{chat_history}\n",
        "Follow Up Input: {question}\n",
        "Standalone question:\"\"\"  # noqa: E501\n",
        "CONDENSE_QUESTION_PROMPT = PromptTemplate.from_template(_template)\n",
        "\n",
        "def _format_chat_history(chat_history: List[Tuple[str, str]]) -> List:\n",
        "    buffer = []\n",
        "    for human, ai in chat_history:\n",
        "        buffer.append(HumanMessage(content=human))\n",
        "        buffer.append(AIMessage(content=ai))\n",
        "    return buffer\n",
        "\n",
        "_search_query = RunnableBranch(\n",
        "    (RunnableLambda(lambda x: bool(x.get(\"chat_history\"))).with_config(run_name=\"HasChatHistoryCheck\"),\n",
        "     RunnablePassthrough.assign(chat_history=lambda x: _format_chat_history(x[\"chat_history\"]))\n",
        "     | CONDENSE_QUESTION_PROMPT\n",
        "     | ChatOpenAI(temperature=0)\n",
        "     | StrOutputParser()),\n",
        "    RunnableLambda(lambda x: x[\"question\"])\n",
        ")\n",
        "\n",
        "template = \"\"\"Answer the question based only on the following context:\n",
        "{context}\n",
        "\n",
        "Question: {question}\n",
        "Use natural language and be concise.\n",
        "Answer:\"\"\"\n",
        "prompt = ChatPromptTemplate.from_template(template)\n",
        "\n",
        "chain = (RunnableParallel({\"context\": _search_query | retriever, \"question\": RunnablePassthrough()})\n",
        "         | prompt\n",
        "         | llm\n",
        "         | StrOutputParser())"
      ],
      "metadata": {
        "id": "TBC-2w0rBZ5F"
      },
      "execution_count": null,
      "outputs": []
    },
    {
      "cell_type": "code",
      "source": [
        "chain.invoke({\"question\": \"If a person has chest pain which reports he should get before he visits doctor \"})"
      ],
      "metadata": {
        "colab": {
          "base_uri": "https://localhost:8080/",
          "height": 107
        },
        "id": "p0tb9Tk599_n",
        "outputId": "b2495e20-b6d8-4ee2-b7af-1ad2933e135d"
      },
      "execution_count": null,
      "outputs": [
        {
          "output_type": "stream",
          "name": "stdout",
          "text": [
            "Search query: If a person has chest pain which reports he should get before he visits doctor \n"
          ]
        },
        {
          "output_type": "stream",
          "name": "stderr",
          "text": [
            "WARNING:neo4j.notifications:Received notification from DBMS server: {severity: WARNING} {code: Neo.ClientNotification.Statement.UnknownRelationshipTypeWarning} {category: UNRECOGNIZED} {title: The provided relationship type is not in the database.} {description: One of the relationship types in your query is not available in the database, make sure you didn't misspell it or that the label is available when you run this statement in your application (the missing relationship type is: MENTIONS)} {position: line: 5, column: 32, offset: 166} for query: \"CALL db.index.fulltext.queryNodes('entity', $query, {limit:2})\\n            YIELD node,score\\n            CALL {\\n              WITH node\\n              MATCH (node)-[r:!MENTIONS]->(neighbor)\\n              RETURN node.id + ' - ' + type(r) + ' -> ' + neighbor.id AS output\\n              UNION ALL\\n              WITH node\\n              MATCH (node)<-[r:!MENTIONS]-(neighbor)\\n              RETURN neighbor.id + ' - ' + type(r) + ' -> ' +  node.id AS output\\n            }\\n            RETURN output LIMIT 50\\n            \"\n",
            "WARNING:neo4j.notifications:Received notification from DBMS server: {severity: WARNING} {code: Neo.ClientNotification.Statement.UnknownRelationshipTypeWarning} {category: UNRECOGNIZED} {title: The provided relationship type is not in the database.} {description: One of the relationship types in your query is not available in the database, make sure you didn't misspell it or that the label is available when you run this statement in your application (the missing relationship type is: MENTIONS)} {position: line: 9, column: 33, offset: 348} for query: \"CALL db.index.fulltext.queryNodes('entity', $query, {limit:2})\\n            YIELD node,score\\n            CALL {\\n              WITH node\\n              MATCH (node)-[r:!MENTIONS]->(neighbor)\\n              RETURN node.id + ' - ' + type(r) + ' -> ' + neighbor.id AS output\\n              UNION ALL\\n              WITH node\\n              MATCH (node)<-[r:!MENTIONS]-(neighbor)\\n              RETURN neighbor.id + ' - ' + type(r) + ' -> ' +  node.id AS output\\n            }\\n            RETURN output LIMIT 50\\n            \"\n"
          ]
        },
        {
          "output_type": "execute_result",
          "data": {
            "text/plain": [
              "'The person should get an ECG and blood tests before visiting the doctor.'"
            ],
            "application/vnd.google.colaboratory.intrinsic+json": {
              "type": "string"
            }
          },
          "metadata": {},
          "execution_count": 55
        }
      ]
    },
    {
      "cell_type": "code",
      "source": [
        "chain.invoke({\"question\": \"if a person has chronic kidney disease which doctor he should visit\"})"
      ],
      "metadata": {
        "colab": {
          "base_uri": "https://localhost:8080/",
          "height": 177
        },
        "id": "WOKTU3SPByVT",
        "outputId": "f15232a3-b09e-4d1d-9dad-578d6a17fe29"
      },
      "execution_count": null,
      "outputs": [
        {
          "output_type": "stream",
          "name": "stdout",
          "text": [
            "Search query: if a person has chronic kidney disease which doctor he should visit\n"
          ]
        },
        {
          "output_type": "stream",
          "name": "stderr",
          "text": [
            "WARNING:neo4j.notifications:Received notification from DBMS server: {severity: WARNING} {code: Neo.ClientNotification.Statement.UnknownRelationshipTypeWarning} {category: UNRECOGNIZED} {title: The provided relationship type is not in the database.} {description: One of the relationship types in your query is not available in the database, make sure you didn't misspell it or that the label is available when you run this statement in your application (the missing relationship type is: MENTIONS)} {position: line: 5, column: 32, offset: 166} for query: \"CALL db.index.fulltext.queryNodes('entity', $query, {limit:2})\\n            YIELD node,score\\n            CALL {\\n              WITH node\\n              MATCH (node)-[r:!MENTIONS]->(neighbor)\\n              RETURN node.id + ' - ' + type(r) + ' -> ' + neighbor.id AS output\\n              UNION ALL\\n              WITH node\\n              MATCH (node)<-[r:!MENTIONS]-(neighbor)\\n              RETURN neighbor.id + ' - ' + type(r) + ' -> ' +  node.id AS output\\n            }\\n            RETURN output LIMIT 50\\n            \"\n",
            "WARNING:neo4j.notifications:Received notification from DBMS server: {severity: WARNING} {code: Neo.ClientNotification.Statement.UnknownRelationshipTypeWarning} {category: UNRECOGNIZED} {title: The provided relationship type is not in the database.} {description: One of the relationship types in your query is not available in the database, make sure you didn't misspell it or that the label is available when you run this statement in your application (the missing relationship type is: MENTIONS)} {position: line: 9, column: 33, offset: 348} for query: \"CALL db.index.fulltext.queryNodes('entity', $query, {limit:2})\\n            YIELD node,score\\n            CALL {\\n              WITH node\\n              MATCH (node)-[r:!MENTIONS]->(neighbor)\\n              RETURN node.id + ' - ' + type(r) + ' -> ' + neighbor.id AS output\\n              UNION ALL\\n              WITH node\\n              MATCH (node)<-[r:!MENTIONS]-(neighbor)\\n              RETURN neighbor.id + ' - ' + type(r) + ' -> ' +  node.id AS output\\n            }\\n            RETURN output LIMIT 50\\n            \"\n",
            "WARNING:neo4j.notifications:Received notification from DBMS server: {severity: WARNING} {code: Neo.ClientNotification.Statement.UnknownRelationshipTypeWarning} {category: UNRECOGNIZED} {title: The provided relationship type is not in the database.} {description: One of the relationship types in your query is not available in the database, make sure you didn't misspell it or that the label is available when you run this statement in your application (the missing relationship type is: MENTIONS)} {position: line: 5, column: 32, offset: 166} for query: \"CALL db.index.fulltext.queryNodes('entity', $query, {limit:2})\\n            YIELD node,score\\n            CALL {\\n              WITH node\\n              MATCH (node)-[r:!MENTIONS]->(neighbor)\\n              RETURN node.id + ' - ' + type(r) + ' -> ' + neighbor.id AS output\\n              UNION ALL\\n              WITH node\\n              MATCH (node)<-[r:!MENTIONS]-(neighbor)\\n              RETURN neighbor.id + ' - ' + type(r) + ' -> ' +  node.id AS output\\n            }\\n            RETURN output LIMIT 50\\n            \"\n",
            "WARNING:neo4j.notifications:Received notification from DBMS server: {severity: WARNING} {code: Neo.ClientNotification.Statement.UnknownRelationshipTypeWarning} {category: UNRECOGNIZED} {title: The provided relationship type is not in the database.} {description: One of the relationship types in your query is not available in the database, make sure you didn't misspell it or that the label is available when you run this statement in your application (the missing relationship type is: MENTIONS)} {position: line: 9, column: 33, offset: 348} for query: \"CALL db.index.fulltext.queryNodes('entity', $query, {limit:2})\\n            YIELD node,score\\n            CALL {\\n              WITH node\\n              MATCH (node)-[r:!MENTIONS]->(neighbor)\\n              RETURN node.id + ' - ' + type(r) + ' -> ' + neighbor.id AS output\\n              UNION ALL\\n              WITH node\\n              MATCH (node)<-[r:!MENTIONS]-(neighbor)\\n              RETURN neighbor.id + ' - ' + type(r) + ' -> ' +  node.id AS output\\n            }\\n            RETURN output LIMIT 50\\n            \"\n",
            "WARNING:neo4j.notifications:Received notification from DBMS server: {severity: WARNING} {code: Neo.ClientNotification.Statement.UnknownRelationshipTypeWarning} {category: UNRECOGNIZED} {title: The provided relationship type is not in the database.} {description: One of the relationship types in your query is not available in the database, make sure you didn't misspell it or that the label is available when you run this statement in your application (the missing relationship type is: MENTIONS)} {position: line: 5, column: 32, offset: 166} for query: \"CALL db.index.fulltext.queryNodes('entity', $query, {limit:2})\\n            YIELD node,score\\n            CALL {\\n              WITH node\\n              MATCH (node)-[r:!MENTIONS]->(neighbor)\\n              RETURN node.id + ' - ' + type(r) + ' -> ' + neighbor.id AS output\\n              UNION ALL\\n              WITH node\\n              MATCH (node)<-[r:!MENTIONS]-(neighbor)\\n              RETURN neighbor.id + ' - ' + type(r) + ' -> ' +  node.id AS output\\n            }\\n            RETURN output LIMIT 50\\n            \"\n",
            "WARNING:neo4j.notifications:Received notification from DBMS server: {severity: WARNING} {code: Neo.ClientNotification.Statement.UnknownRelationshipTypeWarning} {category: UNRECOGNIZED} {title: The provided relationship type is not in the database.} {description: One of the relationship types in your query is not available in the database, make sure you didn't misspell it or that the label is available when you run this statement in your application (the missing relationship type is: MENTIONS)} {position: line: 9, column: 33, offset: 348} for query: \"CALL db.index.fulltext.queryNodes('entity', $query, {limit:2})\\n            YIELD node,score\\n            CALL {\\n              WITH node\\n              MATCH (node)-[r:!MENTIONS]->(neighbor)\\n              RETURN node.id + ' - ' + type(r) + ' -> ' + neighbor.id AS output\\n              UNION ALL\\n              WITH node\\n              MATCH (node)<-[r:!MENTIONS]-(neighbor)\\n              RETURN neighbor.id + ' - ' + type(r) + ' -> ' +  node.id AS output\\n            }\\n            RETURN output LIMIT 50\\n            \"\n"
          ]
        },
        {
          "output_type": "execute_result",
          "data": {
            "text/plain": [
              "'A person with chronic kidney disease should visit a nephrologist.'"
            ],
            "application/vnd.google.colaboratory.intrinsic+json": {
              "type": "string"
            }
          },
          "metadata": {},
          "execution_count": 57
        }
      ]
    },
    {
      "cell_type": "code",
      "source": [
        "chain.invoke({\"question\": \"If a person has kidney disease recommend a diet to him\"})"
      ],
      "metadata": {
        "colab": {
          "base_uri": "https://localhost:8080/",
          "height": 160
        },
        "id": "rEJOYXGkDD9s",
        "outputId": "4b67cc75-f1d3-4ca8-c6d3-2522d7241271"
      },
      "execution_count": null,
      "outputs": [
        {
          "output_type": "stream",
          "name": "stdout",
          "text": [
            "Search query: If a person has kidney disease recommend a diet to him\n"
          ]
        },
        {
          "output_type": "stream",
          "name": "stderr",
          "text": [
            "WARNING:neo4j.notifications:Received notification from DBMS server: {severity: WARNING} {code: Neo.ClientNotification.Statement.UnknownRelationshipTypeWarning} {category: UNRECOGNIZED} {title: The provided relationship type is not in the database.} {description: One of the relationship types in your query is not available in the database, make sure you didn't misspell it or that the label is available when you run this statement in your application (the missing relationship type is: MENTIONS)} {position: line: 5, column: 32, offset: 166} for query: \"CALL db.index.fulltext.queryNodes('entity', $query, {limit:2})\\n            YIELD node,score\\n            CALL {\\n              WITH node\\n              MATCH (node)-[r:!MENTIONS]->(neighbor)\\n              RETURN node.id + ' - ' + type(r) + ' -> ' + neighbor.id AS output\\n              UNION ALL\\n              WITH node\\n              MATCH (node)<-[r:!MENTIONS]-(neighbor)\\n              RETURN neighbor.id + ' - ' + type(r) + ' -> ' +  node.id AS output\\n            }\\n            RETURN output LIMIT 50\\n            \"\n",
            "WARNING:neo4j.notifications:Received notification from DBMS server: {severity: WARNING} {code: Neo.ClientNotification.Statement.UnknownRelationshipTypeWarning} {category: UNRECOGNIZED} {title: The provided relationship type is not in the database.} {description: One of the relationship types in your query is not available in the database, make sure you didn't misspell it or that the label is available when you run this statement in your application (the missing relationship type is: MENTIONS)} {position: line: 9, column: 33, offset: 348} for query: \"CALL db.index.fulltext.queryNodes('entity', $query, {limit:2})\\n            YIELD node,score\\n            CALL {\\n              WITH node\\n              MATCH (node)-[r:!MENTIONS]->(neighbor)\\n              RETURN node.id + ' - ' + type(r) + ' -> ' + neighbor.id AS output\\n              UNION ALL\\n              WITH node\\n              MATCH (node)<-[r:!MENTIONS]-(neighbor)\\n              RETURN neighbor.id + ' - ' + type(r) + ' -> ' +  node.id AS output\\n            }\\n            RETURN output LIMIT 50\\n            \"\n",
            "WARNING:neo4j.notifications:Received notification from DBMS server: {severity: WARNING} {code: Neo.ClientNotification.Statement.UnknownRelationshipTypeWarning} {category: UNRECOGNIZED} {title: The provided relationship type is not in the database.} {description: One of the relationship types in your query is not available in the database, make sure you didn't misspell it or that the label is available when you run this statement in your application (the missing relationship type is: MENTIONS)} {position: line: 5, column: 32, offset: 166} for query: \"CALL db.index.fulltext.queryNodes('entity', $query, {limit:2})\\n            YIELD node,score\\n            CALL {\\n              WITH node\\n              MATCH (node)-[r:!MENTIONS]->(neighbor)\\n              RETURN node.id + ' - ' + type(r) + ' -> ' + neighbor.id AS output\\n              UNION ALL\\n              WITH node\\n              MATCH (node)<-[r:!MENTIONS]-(neighbor)\\n              RETURN neighbor.id + ' - ' + type(r) + ' -> ' +  node.id AS output\\n            }\\n            RETURN output LIMIT 50\\n            \"\n",
            "WARNING:neo4j.notifications:Received notification from DBMS server: {severity: WARNING} {code: Neo.ClientNotification.Statement.UnknownRelationshipTypeWarning} {category: UNRECOGNIZED} {title: The provided relationship type is not in the database.} {description: One of the relationship types in your query is not available in the database, make sure you didn't misspell it or that the label is available when you run this statement in your application (the missing relationship type is: MENTIONS)} {position: line: 9, column: 33, offset: 348} for query: \"CALL db.index.fulltext.queryNodes('entity', $query, {limit:2})\\n            YIELD node,score\\n            CALL {\\n              WITH node\\n              MATCH (node)-[r:!MENTIONS]->(neighbor)\\n              RETURN node.id + ' - ' + type(r) + ' -> ' + neighbor.id AS output\\n              UNION ALL\\n              WITH node\\n              MATCH (node)<-[r:!MENTIONS]-(neighbor)\\n              RETURN neighbor.id + ' - ' + type(r) + ' -> ' +  node.id AS output\\n            }\\n            RETURN output LIMIT 50\\n            \"\n"
          ]
        },
        {
          "output_type": "execute_result",
          "data": {
            "text/plain": [
              "'A person with kidney disease should follow a low-protein, low-sodium diet and limit potassium and phosphorus intake. They should also drink plenty of water and avoid processed foods.'"
            ],
            "application/vnd.google.colaboratory.intrinsic+json": {
              "type": "string"
            }
          },
          "metadata": {},
          "execution_count": 58
        }
      ]
    },
    {
      "cell_type": "code",
      "source": [],
      "metadata": {
        "id": "MOBL5iLeDn33"
      },
      "execution_count": null,
      "outputs": []
    },
    {
      "cell_type": "code",
      "source": [],
      "metadata": {
        "id": "RFtOPvXpDvZf"
      },
      "execution_count": null,
      "outputs": []
    }
  ]
}